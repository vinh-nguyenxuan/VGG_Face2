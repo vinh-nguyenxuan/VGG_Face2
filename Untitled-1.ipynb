{
 "cells": [
  {
   "cell_type": "code",
   "execution_count": 9,
   "metadata": {},
   "outputs": [
    {
     "name": "stdout",
     "output_type": "stream",
     "text": [
      "Thông tin của DataFrame:\n",
      "<class 'pandas.core.frame.DataFrame'>\n",
      "RangeIndex: 9130 entries, 0 to 9129\n",
      "Data columns (total 5 columns):\n",
      " #   Column       Non-Null Count  Dtype \n",
      "---  ------       --------------  ----- \n",
      " 0   Class_ID     9130 non-null   object\n",
      " 1    Name        9130 non-null   object\n",
      " 2    Sample_Num  9130 non-null   int64 \n",
      " 3    Flag        9130 non-null   int64 \n",
      " 4    Gender      9130 non-null   object\n",
      "dtypes: int64(2), object(3)\n",
      "memory usage: 356.8+ KB\n",
      "\n",
      "Thông tin thống kê của DataFrame:\n",
      "        Sample_Num         Flag\n",
      "count  9130.000000  9130.000000\n",
      "mean    362.635487     0.945345\n",
      "std     102.199956     0.227318\n",
      "min      87.000000     0.000000\n",
      "25%     290.000000     1.000000\n",
      "50%     358.000000     1.000000\n",
      "75%     432.000000     1.000000\n",
      "max     843.000000     1.000000\n",
      "\n",
      "Kiểm tra giá trị thiếu:\n",
      "Class_ID       0\n",
      " Name          0\n",
      " Sample_Num    0\n",
      " Flag          0\n",
      " Gender        0\n",
      "dtype: int64\n",
      "\n",
      "Dữ liệu trong DataFrame (5 dòng đầu):\n",
      "  Class_ID                 Name   Sample_Num   Flag  Gender\n",
      "0  n000002      \"A_Fine_Frenzy\"          315      1       f\n",
      "1  n000003         \"A._A._Gill\"          205      1       m\n",
      "2  n000004      \"A._J._Buckley\"          387      1       m\n",
      "3  n000005   \"A._J._Pierzynski\"          229      1       m\n",
      "4  n000006       \"A._R._Rahman\"          485      1       m\n"
     ]
    }
   ],
   "source": [
    "import pandas as pd\n",
    "\n",
    "# Đường dẫn tới file CSV\n",
    "csv_file_path = 'D:/Users/TUF/Downloads/VGG-Face2/meta/identity_meta.csv'\n",
    "\n",
    "# Đọc file CSV vào DataFrame\n",
    "df = pd.read_csv(csv_file_path)\n",
    "\n",
    "# Xem thông tin chung của DataFrame\n",
    "print(\"Thông tin của DataFrame:\")\n",
    "df.info()\n",
    "\n",
    "# Xem thông tin thống kê cơ bản của DataFrame\n",
    "print(\"\\nThông tin thống kê của DataFrame:\")\n",
    "print(df.describe())\n",
    "\n",
    "# Kiểm tra các giá trị thiếu\n",
    "print(\"\\nKiểm tra giá trị thiếu:\")\n",
    "print(df.isnull().sum())\n",
    "\n",
    "# Hiển thị 5 dòng đầu tiên của DataFrame để kiểm tra\n",
    "print(\"\\nDữ liệu trong DataFrame (5 dòng đầu):\")\n",
    "print(df.head())\n"
   ]
  },
  {
   "cell_type": "code",
   "execution_count": 13,
   "metadata": {},
   "outputs": [
    {
     "data": {
      "text/plain": [
       "Class_ID       0\n",
       " Name          0\n",
       " Sample_Num    0\n",
       " Flag          0\n",
       " Gender        0\n",
       "dtype: int64"
      ]
     },
     "execution_count": 13,
     "metadata": {},
     "output_type": "execute_result"
    }
   ],
   "source": [
    "df.isna().sum()"
   ]
  },
  {
   "cell_type": "code",
   "execution_count": 5,
   "metadata": {},
   "outputs": [
    {
     "name": "stdout",
     "output_type": "stream",
     "text": [
      "Number of identities with Flag == 1 (used for pretraining): 8631\n",
      "Number of identities with Flag == 0 (not used for pretraining): 500\n"
     ]
    }
   ],
   "source": [
    "import pandas as pd\n",
    "import csv\n",
    "\n",
    "def check_identity_count(meta_file):\n",
    "    # Đọc tệp identity_meta.csv\n",
    "    df_meta = pd.read_csv(meta_file, sep=',', quoting=csv.QUOTE_ALL, encoding=\"utf-8\", engine='python', header=0)\n",
    "\n",
    "    # Loại bỏ khoảng trắng dư thừa ở tên cột\n",
    "    df_meta.columns = df_meta.columns.str.strip()\n",
    "\n",
    "    # Kiểm tra số lượng danh tính có Flag == 1\n",
    "    if 'Flag' in df_meta.columns:\n",
    "        num_pretrain = df_meta[df_meta[\"Flag\"] == 1].shape[0]\n",
    "\n",
    "        # Kiểm tra số lượng danh tính có Flag == 0\n",
    "        num_others = df_meta[df_meta[\"Flag\"] == 0].shape[0]\n",
    "\n",
    "        # In kết quả\n",
    "        print(f\"Number of identities with Flag == 1 (used for pretraining): {num_pretrain}\")\n",
    "        print(f\"Number of identities with Flag == 0 (not used for pretraining): {num_others}\")\n",
    "    else:\n",
    "        print(\"Column 'Flag' not found in the dataset. Please check the column names.\")\n",
    "\n",
    "# Đường dẫn đến tệp identity_meta.csv\n",
    "meta_file = \"D:/Users/TUF/Downloads/VGG-Face2/meta/identity_meta.csv\"\n",
    "\n",
    "# Gọi hàm kiểm tra\n",
    "check_identity_count(meta_file)\n"
   ]
  },
  {
   "cell_type": "code",
   "execution_count": 7,
   "metadata": {},
   "outputs": [
    {
     "name": "stdout",
     "output_type": "stream",
     "text": [
      "Found 8631 identities with Flag == 1\n",
      "Found 500 identities with Flag == 0\n"
     ]
    }
   ],
   "source": [
    "# Read the identity_meta.csv file\n",
    "df = pd.read_csv(meta_file, sep=',', quoting=csv.QUOTE_ALL, encoding=\"utf-8\", engine='python')\n",
    "\n",
    "# Strip any extra whitespace from column names\n",
    "df.columns = df.columns.str.strip()\n",
    "\n",
    "# Validate required columns\n",
    "required_columns = {\"Class_ID\", \"Flag\"}\n",
    "if not required_columns.issubset(set(df.columns)):\n",
    "    missing_columns = required_columns - set(df.columns)\n",
    "    raise ValueError(f\"CSV file is missing required columns: {missing_columns}\")\n",
    "\n",
    "# Count identities with Flag == 1 and Flag == 0\n",
    "flag_1_count = df[df[\"Flag\"] == 1].shape[0]\n",
    "flag_0_count = df[df[\"Flag\"] == 0].shape[0]\n",
    "\n",
    "print(f\"Found {flag_1_count} identities with Flag == 1\")\n",
    "print(f\"Found {flag_0_count} identities with Flag == 0\")"
   ]
  },
  {
   "cell_type": "code",
   "execution_count": null,
   "metadata": {},
   "outputs": [],
   "source": []
  }
 ],
 "metadata": {
  "kernelspec": {
   "display_name": "Python 3",
   "language": "python",
   "name": "python3"
  },
  "language_info": {
   "codemirror_mode": {
    "name": "ipython",
    "version": 3
   },
   "file_extension": ".py",
   "mimetype": "text/x-python",
   "name": "python",
   "nbconvert_exporter": "python",
   "pygments_lexer": "ipython3",
   "version": "3.12.6"
  }
 },
 "nbformat": 4,
 "nbformat_minor": 2
}
